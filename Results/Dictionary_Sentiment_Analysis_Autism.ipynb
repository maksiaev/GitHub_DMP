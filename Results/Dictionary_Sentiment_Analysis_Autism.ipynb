{
 "cells": [
  {
   "cell_type": "code",
   "execution_count": 1,
   "id": "2a95c9f2",
   "metadata": {},
   "outputs": [],
   "source": [
    "# Author: Alexander Maksiaev\n",
    "# Purpose: Sentiment analysis of textbooks "
   ]
  },
  {
   "cell_type": "code",
   "execution_count": 2,
   "id": "52b97008",
   "metadata": {},
   "outputs": [],
   "source": [
    "# Housekeeping\n",
    "\n",
    "import os\n",
    "import pandas as pd\n",
    "import csv \n",
    "import docx\n",
    "from english_words import get_english_words_set\n",
    "import enchant\n",
    "\n",
    "# Find real English words\n",
    "web2lowerset = get_english_words_set(['web2'], lower=True)\n",
    "\n",
    "# Switch into textbook directory\n",
    "os.getcwd()\n",
    "\n",
    "textbook_dir = r\"C:\\Users\\maksi\\Documents\\UVA\\Research\\DMP\\Textbook_Dump_Autism\"\n",
    "\n",
    "textbooks = os.listdir(textbook_dir)"
   ]
  },
  {
   "cell_type": "code",
   "execution_count": 3,
   "id": "353ef867",
   "metadata": {},
   "outputs": [],
   "source": [
    "# Clean scored dictionary for use\n",
    "\n",
    "dictionary_dir = r\"C:\\Users\\maksi\\Documents\\UVA\\Research\\DMP\\GitHub_DMP\"\n",
    "\n",
    "dictionary_location = os.chdir(dictionary_dir)\n",
    "        \n",
    "dictionary_clean = []\n",
    "with open(\"final_dictionary_3_19_2024.txt\", newline = '\\n') as dictionary: \n",
    "    dictionary_reader = csv.reader(dictionary, delimiter='\\t')\n",
    "    # Only include words that have scores\n",
    "    for i in dictionary_reader:\n",
    "        if i[1] != \"0\": # If the word has a score\n",
    "            dictionary_clean.append(i)\n",
    "\n",
    "# More cleanup\n",
    "for i in dictionary_clean:\n",
    "    i[1] = float(i[1])\n"
   ]
  },
  {
   "cell_type": "code",
   "execution_count": 4,
   "id": "4f8b6251",
   "metadata": {},
   "outputs": [],
   "source": [
    "# Go back to textbook directory \n",
    "\n",
    "os.chdir(textbook_dir)\n",
    "\n",
    "# Function to get full text\n",
    "def getText(filename):\n",
    "    doc = docx.Document(filename)\n",
    "    fullText = []\n",
    "    for para in doc.paragraphs:\n",
    "        fullText.append(para.text)\n",
    "    return fullText\n",
    "\n",
    "# Dictionary filled with text for all the books, minus the titles\n",
    "title_text = {}\n",
    "for book in textbooks:\n",
    "    total_text = getText(book)\n",
    "    text_without_title = total_text[4:]\n",
    "    for piece in text_without_title:\n",
    "        if piece == '':\n",
    "            text_without_title.remove(piece) # Does not get rid of all whitespace, but ah well.\n",
    "    title_text[book] = text_without_title\n",
    "    "
   ]
  },
  {
   "cell_type": "code",
   "execution_count": 5,
   "id": "617b841a",
   "metadata": {},
   "outputs": [
    {
     "name": "stdout",
     "output_type": "stream",
     "text": [
      "['p. 29: People who take a biological approach traditionally have not accepted a continuum model of abnormality, viewing psychological disorders (such as schizophrenia) as either present or absent much the way they view medical or physical disorders (such as cancer). More recently, however, those who use biological approaches have begun to view many disorders as part of a spectrum (Cannon & Keller, 2006). Several disorders may have similar symptoms of varying intensity. For example, recent research on autism, a disorder characterized by problems in communication, social skills, and activities and interests, suggests that it may be part of a spectrum of disorders with some of the same symptoms, but which vary in severity. A disorder on the less severe end of that spectrum may be Asperger\\'s syndrome, which is characterized by some of the same problems in social skills and activities as autism but not by severe communication difficulties. Thus, researchers now often speak of the \"autism spectrum\" of disorders (Sigman, Spence, & Wang, 2006). However, all disorders on the spectrum are qualitatively different from normal functioning.', 'p. 297: Dr. Temple Grandin, professor of animal sciences at Colorado State University, has designed one-third of livestock-handling facilities in the United States . She has published dozens of scientific papers and gives lectures throughout the world . Some of her lectures describe her new equipment and procedures for safer and more humane animal handling. Others describe her life with autism.', 'p. 297: Grandin showed the classic symptoms of autism during childhood. As a baby, she had no desire to be held by her mother, though she was calm if left alone. As a young child, she seldom made eye contact with others and seemed to lack interest in people. She frequently threw wild tantrums. If left alone, she rocked back and forth or spun around indefinitely. She could sit for hours on the beach, watching sand dribble through her fingers, in a trancelike state. At 21/2 she still had not begun talking and was labeled \"brain-damaged\" because doctors at the time did not know about autism.', 'p. 297: Still, Grandin does not regret that she has autism. She says, If I could snap my fingers and be a non-autistic person, I would not. Autism is part of what I am. ', 'p. 323: The pervasive developmental disorders involve severe and lasting impairment in several areas of development, including social interactions, communication with others, and everyday behaviors, interests, and activities. The most thoroughly researched pervasive developmental disorder is autism, a disorder in which children show deficits in all these areas (see the DSM-IV-TR criteria in Table 10.7). Many children with autism also show at least a mild level of mental retardation, although this was not true of Temple Grandin, whose life with autism is described in the chapter opener. Richard, a child with autism, shows a range of deficits characteristic of this disorder.', \"p. 324: Autism involves three types of deficits. The first type is deficits in social interaction, such as a lack of interaction with family members. As infants, children with autism may not smile and coo in response to their caregivers or initiate play with their caregivers, the way most young infants do. They may not want to cuddle with their parents, even when they are frightened. Whereas most infants love to gaze on their caregivers as the caregivers gaze adoringly at them, infants with autism may hardly ever make eye contact. When they are a bit older, children with autism may not be interested in playing with other children, preferring to re-main in solitary play. They also do not seem to react to other people's emotions. In the chapter opener, Temple Grandin describes how she had to work hard to overcome her lack of understanding of social interactions.\", 'p. 324: Formerly, it was thought that children with autism were preoccupied with internal thoughts and fantasies, much as people with schizophrenia might be preoccupied with hallucinations and delusions. Indeed, childhood autism once was considered a precursor to adult schizophrenia (Volkrnar, State, & Klin, 2009). However, these children do not develop the classic symptoms of schizophrenia (e.g., hallucinations and delusions) as adults, and adults with schizophrenia do not have a history of autism. In addition, autism and schizophrenia do not co-occur at a high rate in families, suggesting that the disorders have different genetic causes.', 'p. 324: The second type of deficits in autism involves communication. Approximately 50 percent of children with autism do not develop useful speech. Those who do develop language may not use it as other children do. In the previous case study, Richard showed several of the communication problems of children with autism. Rather than', 'generating his own words, he simply echoed what he had just heard, a phenomenon called echolalia. He reversed pronouns, using you when he meant I. When he did try to gene r ate his own words or sentences, he did not modulate his voice for expressiveness, instead sounding almost like a voice-generating machine.', 'p. 324: The third type of deficits concerns the activities and interests of children with autism. Rather than', 'engaging in symbolic play with toys, they are preoccupied', 'with one part of a toy or an object, as Richard was preoccupied with his miniature car or as Temple Grandin was interested only in watching sand dribble through her fingers. They may engage in bizarre, repetitive behaviors with toys. Rather than using two dolls to play \"dollies have tea,\" a child with autism might take the arm off one doll and simply pass it back and forth between her two hands. Routines and rituals often are extremely important to children with autism. When any aspect of the daily routine is changed- for example, if their mother stops at the bank on the way to school- they may fly into a rage. Some children perform stereotyped and repetitive behaviors using some parts of their body, such as incessantly flapping their hands or banging their head against the wall. These behaviors sometimes are referred to as self-stimulatory behaviors, under the assumption that these children to engage in such behaviors for self-stimulation. It is not clear, however, that this is their true purpose.', '\\np. 325: Table 10.7 DSM-IV-TR Criteria for Autism ', 'A total of six (or more) items from A, B, and C, with at least two from A and one each from B and C.', 'Qualitative impairment in social interaction, as manifested by at least two of the following: ', 'Marked impairment in the use of multiple nonverbal behaviors as eye-to-eye gaze, facial expression, body posture, and gestures to regulate social interaction', 'Failure to develop peer relationships appropriate to developmental level ', 'A lack of spontaneous seeking to share enjoyment, interests, or achievements with other people ', 'Lack of social or emotional reciprocity ', 'Qualitative impairments in communication as manifested by at least one of the following: ', 'Delay in, or total lack of, the development of spoken language (not accompanied by an attempt to compensate through alternative modes of communication such as gesture or mime) ', 'In individuals with adequate speech, marked inability to initiate or sustain a conversation with others ', 'Stereotyped and repetitive use of language or idiosyncratic language ', 'Lack of varied, spontaneous make-believe play or social imitative play appropriate to developmental level ', 'Restricted repetitive and stereotyped patterns of behavior, interests, and activities, as manifested by at least two of the following: ', 'Encompassing preoccupation with one or more stereotyped and restricted patterns of interest that is abnormal either in intensity or focus ', 'Apparently inflexible adherence to specific, nonfunctional routines or rituals ', 'Stereotyped and repetitive motor mannerisms (e.g., hand or finger flapping or twisting, or complex whole-body movements) ', 'Persistent preoccupation with parts of objects', 'Delays or abnormal functioning in at least one of the following areas, with onset prior to age 3 years: (A) social interaction, (B) language as used in social communication (C) symbolic or imaginative play. ', \" p. 325: Children with autism often do poorly on measures of intellectual ability, such as IQ tests, with 50 to 70 percent of children showing moderate to severe intellectual impairments (Sigman, Spence, & Wang, 2006). The deficits of some children with autism, however, are confined to skills that require language and understanding others' points of view, and they may score in the average range on sub-tests that do not require language skills.\", 'p. 325: Temple Grandin is clearly of above-average intelligence despite her autism. Much has been made in the popular press about the special talents of some children with autism, such as the ability to play music without having been taught or to draw extremely well, or exceptional memory and mathematical calculation abilities as depicted in the movie Rain Man.', 'p. 325: By definition, the symptoms of autism have their onset before age 3. However, children with autism are not simply delayed in their development of important skills. When they do develop language or social interaction pattern s, there is a striking deviance in the nature of these. It is important to note that there is a wide variation in the severity and outcome of this disorder. One study followed 68 individuals who had been diagnosed with autism as children and who had a performance IQ of at least 50 (Howlin, Goode, Hutton, and Rutter, 2004). As adults, 13 of them had been able to obtain some sort of academic degree, 5 had gone on to college, and 2 had obtained a postgrad-uate degree. Of the 68, 23 were employed, and 18 had close friendships. The majority, however, remained very dependent on their parents or required some form of residential care. Fifty-eight percent, 39 individuals, had overall outcomes that were rated \"poor\" or \"very poor.\" They were un-able to live alone or hold a job, and had persistent problems in communication and social interactions.', 'p. 326: In Rain Man, Dustin Hoffman played a man with autism who had some extraordinary abilities. ', 'p. 326: By far the best predictor of the outcome of autism is a child\\'s IQ and the amount of language development before age 6 (Howlin et al., 2004; Nordin & Gillberg, 1998). . Children who have IQs above 50 and communicative speech before age 6 have a much better prognosis than do others. In the study by Howlin and colleagues (2004), people with an IQ of 70 or above were especially likely to achieve a \"good\" or \"very good\" outcome.', 'p. 326: The prevalence of autism has been rising in re-cent years, probably because of increased attention to and recognition of the disorder (Tager-Flusberg, Joseph, & Folstein, 2001). A review of epidemiological studies estimated the prevalence of autism to be about 1 in 500 children, and the prevalence of all forms of pervasive developmental disorder to be 1 in 160 children (Fombonne, 2009). Boys outnumber girls about four to one. The prevalence of autism does not ap-pear to vary by national origin, race/ ethnicity, socio-economic status, or parental education.', \"p. 326: Other pervasive developmental disorders recognized in the DSM-IV-TR include Asperger 's disorder, Rett's disorder, and childhood disintegrative disorder (Tables 10.8 and 10.9).\", \"p. 326: Asperger's disorder is characterized by deficits in social interactions and in activities and interests that are similar to those in autism (see Table 10.8). It differs from autism in that there are no significant delays or deviance in language and, in the first 3 years of life, children show normal levels of curiosity about the environment and acquire most normal cognitive skills. The children usually have average IQ scores.\", \"p. 326: Children with Asperger's disorder tend to have difficulty in social relationships. They can be obsessed with arcane facts and issues (such as memorizing zip codes), or they can be formal in their speech-the disorder has been referred to as the little professor syndrome\", \"p. 326: The prevalence of Asperger 's disorder is not clear, and many individuals with the disorder are able to function well enough in life that they go un-diagnosed. Current estimates suggest that the prevalence is between 1 and 36 people per 10,000 (Volkmar et al., 2004).\", \"p. 326: The distinctions between the pervasive develop-mental disorders, particularly between autism and Asperger's disorder, have been controversial (Volkmar et al., 2009). These disorders co-occur in families, and there is no clear evidence that they have different causes. Rett's childhood disintegrative disorder and disorder are very rare, and the validity of these diagnoses has been questioned (Fombonne, 2009).\", 'p. 327: Table 10.8 DSM-IV-TR Criteria for Asperger’s Disorder ', 'Qualitative impairment in social interaction, as manifested by at least two of the following: ', 'Marked impairment in the use of multiple nonverbal behaviors as eye-to-eye gaze, facial expression, body posture, and gestures to regulate social interaction', 'Failure to develop peer relationships appropriate to developmental level ', 'A lack of spontaneous seeking to share enjoyment, interests, or achievements with other people (e.g., by lack of showing, bringing, or pointing out objects of interest to other people)', 'Lack of social or emotional reciprocity ', 'Restricted repetitive and stereotyped patterns of behavior, interests, and activities, as manifested by at least two of the following: ', 'Encompassing preoccupation with one or more stereotyped and restricted patterns of interest that is abnormal either in intensity or focus ', 'Apparently inflexible adherence to specific, nonfunctional routines or rituals ', 'Stereotyped and repetitive motor mannerisms (e.g., hand or finger flapping or twisting, or complex whole-body movements) ', 'Persistent preoccupation with parts of objects', 'The disturbance causes clinically significant impairment in social, occupational, or other important areas of functioning.', 'There is no clinically significant general delay in language (e.g., single word used by age 2 years, communicative phrases used by age 3 years). ', 'There is no clinically significant delay in cognitive development or in the development of age-appropriate self-help skills, adaptive behavior (other than in social interaction), and curiosity about the environment in childhood. ', 'Criteria are not met for another specific pervasive developmental disorder or schizophrenia.', \"p. 327: The DSM-IV-TR recognizes two pervasive developmental disorders in addition to autism and Asperger's disorder.\", \"p. 328: In the DSM-5, all the pervasive developmental disorders are likely to be subsuned under the new category autism spectrum disorder, in light of evidence that they fall along a continuum of severity but are not clearly distinct from one another (Volkmar et al., 2009). The diagnosis of autism spectrum disorder will require that children show evidence of shortfalls in social communication and interactions, and restricted and recurring behaviors, such as those in the DSM-IV-TR criteria for autism and Asperger's disorder (American Psychiatric Association, 2010). The symptoms must be present in early childhood, but no age by which they must be present is specified. The old distinctions between autism and other pervasive developmental disorders likely will be indicated by a rating scale for severity.\", \"p. 328: Over the years, a wide variety of theories of autism have been proposed. The psychiatrist who first de-scribed autism, Leo Kanner (1943), thought that autism was caused by a combination of biological factors and poor parenting. He and later psycho-analytic theorists (Bettelheim, 1967) described the parents of children with autism as cold, distant, and uncaring. The child's symptoms were seen as a retreat inward to a secret world of fantasies in response to unavailable parents. However, research over the decades has shown clearly that unresponsive parenting plays little or no role in the development of autism.\", 'p. 328: Several biological factors have been implicated in the development of autism. Family and twin studies strongly suggest that genetics plays a role in the development of the disorder. The sib-lings of children with autism are 50 times more likely to have the disorder than are the siblings of children without autism (Sigman et al., 2006). Twin studies show concordance rates for autism to be about 60 percent for monozygotic twins and O to 10 percent for dizygotic twins (Folstein & Rosen-Sheidley, 2001 ). In addition, about 90 percent of the MZ twins of children with autism have a significant cognitive impairment, compared to 10 percent of DZ twins. Also, children with autism have a higher than aver-age rate of other genetic disorders associated with cognitive impairment, including fragile X syn-drome and PKU (Volkmar et al., 2009). These data suggest that a general vulnerability to several types of cognitive impairment, only one of which is manifested as autism, runs in families. No single gene seems to cause autism; rather, abnormalities in several genes have been associated with autism and with the pervasive developmental dis-orders as a group (Liu, Paterson, Szatrnari, and the Autism Genome Project Consortium, 2008; Sigman et al., 2006).', 'p. 328: These areas of the brain have been implicated in autism.', 'p. 328: Neurological factors probably play a role in autism. The array of deficits seen in autism suggests disruption in the normal development and organization of the brain (Sigman et al., 2006). In addition, approximately 30 percent of children with autism develop seizure disorders by adolescence, suggesting a severe neurological dysfunction (Fombonne, 1999).', 'p. 328: Neuroimaging studies have suggested a variety of structural and functional deficits in the brains of individuals with autism, including in the cerebellum, the cerebrum, the amygdala, and possibly the hippocampus (Sigman et al., 2006). A consistent finding is greater head and brain size in children with the disorder than in children without it (Lotspeich et al., 2004).', \"p. 328: When children with autism and other pervasive developmental disorders are doing tasks that require perception of facial expressions, joint at-tention with another person, empathy, or thinking about social situations, they show abnormal functioning in areas of the brain that are recruited for such tasks. For example, when shown photos of faces, children with a pervasive developmental disorder show less activation than do typical children in an area of the brain involved in facial perception called the fusiform gyrus (Figure 10. 2; Schultz, 2005). Difficulty in perceiving and under- standing facial expressions could contribute to these children's deficits in social interactions.\", 'p. 328: Children with pervasive developmental disorders perform more poorly than other children on tasks requiring theory of mind-the ability to understand that people, including oneself, have mental states and to use this understanding to interact and communicate with others (Baron-Cohen & Swettenham, 1997). Having a theory of mind is essential to comprehending, explaining, predicting, and manipulating the behavior of others. Children with autism often fail at tasks assessing theory of mind, even when they perform appropriately for their age group on other cognitive tasks (Yirmiya, Erel, Shaked, & Solomonica-Levi, 1998). A deficient theory of mind may make it difficult for these children to understand and operate in the social world and to communicate appropriately with others. Their strange play behavior-specifically, the absence of symbolic play-also may represent an inability to understand anything but the concrete realities before them. Positron emission tomography studies show that children with autism show deficits in the medial prefrontal cortex and amygdala when performing theory of mind tasks (Castelli et al., 2002).', 'p. 329: Neurological dysfunctions could be the result of genetic factors. Alternately, children with autism have a higher than average rate of prenatal and birth complications, and these complications might create the neurological damage (Sigman et al., 2006). Further, studies have found differences between children with and without autism in levels of the neurotransmitters serotonin and dopa-mine, although the meaning of these differences is not entirely clear (Anderson & Hoshino, 1997).', 'p. 329: A number of drugs have been shown to improve some of the symptoms of autism, including over-activity, stereotyped behaviors (e.g., head-banging and hand-flapping), sleep disturbances, and tension (Kerbeshian, Burd, & Avery, 2001; Volkmar, 2001). The selective serotonin reuptake inhibitors appear to reduce repetitive behaviors and aggression, and they improve social interactions in some people with autism. The atypical antipsychotic medications are used to reduce obsessive and repetitive behaviors and to improve self-control. Naltrexone, a drug that blocks receptors for opiates, has been shown to be useful in reducing hyperactivity in some children with autism. Finally, stimulants are used to improve attention (Jesner, Aref-Adib, & Coren, 2007). These drugs do not alter the basic autistic disorder, but they may make it easier for people with autism to participate in school and in treatment interventions.', 'p. 329: Psychosocial therapies for autism combine behavioral techniques and structured educational services (Koegel, Koegel, & Brookman, 2003; Lovaas & Smith, 2003; Vismara & Rogers, 2010). Operant conditioning strategies are used to reduce excessive behaviors, such as repetitive or ritualistic behaviors, tantrums, and aggression, and to alleviate deficits or delays, such as deficits in communication and in interactions with others. These techniques may be implemented in highly structured schools designed especially for children with autism or in regular classrooms if children are mainstreamed. The specific deficits a child has in cognitive, motor, or communication skills are targeted, and materials that reduce possible distractions (such as books that do not have words printed in bright colors) are used. Parents may be taught to implement the techniques consistently when the children are at home.', 'p. 329: One pioneering study showed that 47 percent of children with autism given this intensive behavioral treatment for at least 40 hours a week for at least 2 years achieved normal intellectual and educational functioning by age 7, compared to only 2 percent of children who received institutional care alone (Lovaas, 1987). Several other studies have shown remarkable improvements in cognitive skills and behavioral control in children with autism who were treated with a comprehensive behavior therapy administered both by their parents and in their school setting (Bregman & Gerdtz, 1997; Koegel et al., 2003; Lovaas & Smith, 2003; Ozonoff & Cathcart, 1998; Schreibman & Charlop-Christy, 1998; Vismara & Rogers, 2010).', 'p. 329: Figure 10. 2: Brain Activity in Response to Faces. When shown images of faces, children with autism (image on right) show less activation of the fusiform gyrus than do children without autism (image on left). ', 'p. 329: Intensive behavior therapy can help children with autism learn communication and social skills. ', 'p. 330: Test yourself. 2. What biological factors have been implicated in autism? 3. What medications are used to treat autism? 4. How is behavior therapy used to treat autism? Apply it Harry has been diagnosed with autism. Which of the following deficits is he least likely to show? a. deficits in social interaction b. deficits in intelligence c. deficits in language and communication d. deficits in activities and interests', \"p. 523: Asperger's disorder: pervasive developmental disorder characterized by deficits in social skills and activities; similar to autism but does not include deficits in language or cognitive skills.\", '', \"p. 523: autism: childhood disorder marked by deficits in social interaction (such as a lack of interest in one's family or other children), communication (such as failing to modulate one's voice to signify emotional expression), and activities and interests (such as engaging in bizarre, repetitive behaviors).\"]\n"
     ]
    }
   ],
   "source": [
    "print((title_text[\"Abn_Nolen-Hoeksema_05_Autism_v2.docx\"]))"
   ]
  },
  {
   "cell_type": "code",
   "execution_count": 6,
   "id": "dc31b292",
   "metadata": {},
   "outputs": [],
   "source": [
    "# Remove stop words from each book\n",
    "\n",
    "stopwords_dir = r\"C:\\Users\\maksi\\Documents\\UVA\\Research\\DMP\\GitHub_DMP\\Stop_Words\" \n",
    "\n",
    "os.chdir(stopwords_dir)\n",
    "\n",
    "f = open(\"stop_words_english_modified.txt\", \"r\", encoding=\"utf-8\")\n",
    "stopwords = []\n",
    "for text in f:\n",
    "    text = text.replace('\\n', '')\n",
    "    stopwords.append(text)\n",
    "\n",
    "\n",
    "punc = '''!()[]{};:'-\"\\,<>./?@#$%^&*_~''' # Must include \"-\" in words... or not?\n",
    "\n",
    "# Function to clean up text and remove stopwords\n",
    "def clean(book):\n",
    "    text_list = title_text[book]\n",
    "    new_text_list = []\n",
    "    \n",
    "    # Clean up text\n",
    "    for text in text_list:\n",
    "        text = text.strip()\n",
    "        text = text.lower()\n",
    "        text = text.split(' ')\n",
    "        new_text_list.append(text)\n",
    "\n",
    "\n",
    "    newer_text_list = []\n",
    "    \n",
    "    # Remove punctuation\n",
    "    for sentence in new_text_list:\n",
    "        for word in sentence:\n",
    "            for char in punc:\n",
    "                if char in word:\n",
    "                    word = word.replace(char, '')\n",
    "            newer_text_list.append(word)\n",
    "                \n",
    "    # Remove stop words\n",
    "    newest_text_list = []\n",
    "    for words in newer_text_list:\n",
    "        if words not in stopwords:\n",
    "            newest_text_list.append(words)\n",
    "\n",
    "    # Remove blanks\n",
    "    for w in newest_text_list:\n",
    "        if len(w) == 0:\n",
    "            newest_text_list.remove(w)\n",
    "            \n",
    "    return newest_text_list"
   ]
  },
  {
   "cell_type": "code",
   "execution_count": null,
   "id": "9ee1082e",
   "metadata": {},
   "outputs": [],
   "source": []
  },
  {
   "cell_type": "code",
   "execution_count": 7,
   "id": "e8aa26a3",
   "metadata": {},
   "outputs": [
    {
     "name": "stdout",
     "output_type": "stream",
     "text": [
      "['29', 'people', 'biological', 'approach', 'traditionally', 'accepted', 'continuum', 'model', 'abnormality', 'viewing', 'psychological', 'disorders', 'schizophrenia', 'absent', 'view', 'medical', 'physical', 'disorders', 'cancer', 'biological', 'approaches', 'begun', 'view', 'disorders', 'spectrum', 'cannon', 'keller', '2006', 'disorders', 'symptoms', 'varying', 'intensity', 'disorder', 'characterized', 'problems', 'communication', 'social', 'skills', 'activities', 'interests', 'suggests', 'spectrum', 'disorders', 'symptoms', 'vary', 'severity', 'disorder', 'severe', 'spectrum', 'syndrome', 'characterized', 'problems', 'social', 'skills', 'activities', 'severe', 'communication', 'difficulties', 'researchers', 'speak', 'spectrum', 'disorders', 'sigman', 'spence', 'wang', '2006', 'disorders', 'spectrum', 'qualitatively', 'normal', 'functioning', '297', 'dr', 'temple', 'grandin', 'professor', 'animal', 'sciences', 'colorado', 'university', 'designed', 'onethird', 'livestockhandling', 'facilities', 'united', 'published', 'dozens', 'scientific', 'papers', 'lectures', 'lectures', 'equipment', 'procedures', 'safer', 'humane', 'animal', 'handling', 'life', '297', 'grandin', 'classic', 'symptoms', 'childhood', 'baby', 'desire', 'held', 'mother', 'calm', 'left', 'alone', 'young', 'child', 'seldom', 'eye', 'contact', 'lack', 'people', 'frequently', 'threw', 'wild', 'tantrums', 'left', 'alone', 'rocked', 'spun', 'indefinitely', 'sit', 'hours', 'beach', 'watching', 'sand', 'dribble', 'fingers', 'trancelike', '212', 'begun', 'talking', 'labeled', 'braindamaged', 'doctors', 'time', '297', 'grandin', 'regret', 'snap', 'fingers', 'nonautistic', 'person', '323', 'pervasive', 'developmental', 'disorders', 'involve', 'severe', 'lasting', 'impairment', 'areas', 'development', 'including', 'social', 'interactions', 'communication', 'everyday', 'behaviors', 'interests', 'activities', 'researched', 'pervasive', 'developmental', 'disorder', 'disorder', 'children', 'deficits', 'areas', 'dsmivtr', 'criteria', 'table', '107', 'children', 'mild', 'level', 'mental', 'retardation', 'true', 'temple', 'grandin', 'life', 'chapter', 'opener', 'richard', 'child', 'range', 'deficits', 'characteristic', 'disorder', '324', 'involves', 'types', 'deficits', 'type', 'deficits', 'social', 'interaction', 'lack', 'interaction', 'family', 'members', 'infants', 'children', 'smile', 'coo', 'response', 'caregivers', 'initiate', 'play', 'caregivers', 'young', 'infants', 'cuddle', 'parents', 'frightened', 'infants', 'love', 'gaze', 'caregivers', 'caregivers', 'gaze', 'adoringly', 'infants', 'eye', 'contact', 'bit', 'older', 'children', 'interested', 'playing', 'children', 'preferring', 'remain', 'solitary', 'play', 'react', 'peoples', 'emotions', 'chapter', 'opener', 'temple', 'grandin', 'describes', 'work', 'hard', 'overcome', 'lack', 'understanding', 'social', 'interactions', '324', 'thought', 'children', 'preoccupied', 'internal', 'thoughts', 'fantasies', 'people', 'schizophrenia', 'preoccupied', 'hallucinations', 'delusions', 'childhood', 'considered', 'precursor', 'adult', 'schizophrenia', 'volkrnar', 'klin', '2009', 'children', 'develop', 'classic', 'symptoms', 'schizophrenia', 'hallucinations', 'delusions', 'adults', 'adults', 'schizophrenia', 'history', 'addition', 'schizophrenia', 'cooccur', 'high', 'rate', 'families', 'suggesting', 'disorders', 'genetic', '324', 'type', 'deficits', 'involves', 'communication', '50', 'percent', 'children', 'develop', 'useful', 'speech', 'develop', 'language', 'children', 'previous', 'case', 'study', 'richard', 'communication', 'problems', 'children', 'generating', 'simply', 'echoed', 'heard', 'phenomenon', 'called', 'echolalia', 'reversed', 'pronouns', 'meant', 'gene', 'ate', 'sentences', 'modulate', 'voice', 'expressiveness', 'sounding', 'voicegenerating', 'machine', '324', 'type', 'deficits', 'concerns', 'activities', 'interests', 'children', 'engaging', 'symbolic', 'play', 'toys', 'preoccupied', 'toy', 'object', 'richard', 'preoccupied', 'miniature', 'car', 'temple', 'grandin', 'interested', 'watching', 'sand', 'dribble', 'fingers', 'engage', 'bizarre', 'repetitive', 'behaviors', 'toys', 'dolls', 'play', 'dollies', 'tea', 'child', 'arm', 'doll', 'simply', 'pass', 'hands', 'routines', 'rituals', 'extremely', 'children', 'aspect', 'daily', 'routine', 'changed', 'mother', 'stops', 'bank', 'school', 'fly', 'rage', 'children', 'perform', 'stereotyped', 'repetitive', 'behaviors', 'parts', 'body', 'incessantly', 'flapping', 'hands', 'banging', 'head', 'wall', 'behaviors', 'referred', 'selfstimulatory', 'behaviors', 'assumption', 'children', 'engage', 'behaviors', 'selfstimulation', 'clear', 'true', 'purpose', '325', 'table', '107', 'dsmivtr', 'criteria', 'total', 'items', 'qualitative', 'impairment', 'social', 'interaction', 'manifested', 'marked', 'impairment', 'multiple', 'nonverbal', 'behaviors', 'eyetoeye', 'gaze', 'facial', 'expression', 'body', 'posture', 'gestures', 'regulate', 'social', 'interaction', 'failure', 'develop', 'peer', 'relationships', 'appropriate', 'developmental', 'level', 'lack', 'spontaneous', 'seeking', 'share', 'enjoyment', 'interests', 'achievements', 'people', 'lack', 'social', 'emotional', 'reciprocity', 'qualitative', 'impairments', 'communication', 'manifested', 'delay', 'total', 'lack', 'development', 'spoken', 'language', 'accompanied', 'attempt', 'compensate', 'alternative', 'modes', 'communication', 'gesture', 'mime', 'individuals', 'adequate', 'speech', 'marked', 'inability', 'initiate', 'sustain', 'conversation', 'stereotyped', 'repetitive', 'language', 'idiosyncratic', 'language', 'lack', 'varied', 'spontaneous', 'makebelieve', 'play', 'social', 'imitative', 'play', 'appropriate', 'developmental', 'level', 'restricted', 'repetitive', 'stereotyped', 'patterns', 'behavior', 'interests', 'activities', 'manifested', 'encompassing', 'preoccupation', 'stereotyped', 'restricted', 'patterns', 'abnormal', 'intensity', 'focus', 'inflexible', 'adherence', 'specific', 'nonfunctional', 'routines', 'rituals', 'stereotyped', 'repetitive', 'motor', 'mannerisms', 'hand', 'finger', 'flapping', 'twisting', 'complex', 'wholebody', 'movements', 'persistent', 'preoccupation', 'parts', 'objects', 'delays', 'abnormal', 'functioning', 'areas', 'onset', 'prior', 'age', '3', 'years', 'social', 'interaction', 'language', 'social', 'communication', 'symbolic', 'imaginative', 'play', '325', 'children', 'poorly', 'measures', 'intellectual', 'ability', 'iq', 'tests', '50', '70', 'percent', 'children', 'showing', 'moderate', 'severe', 'intellectual', 'impairments', 'sigman', 'spence', 'wang', '2006', 'deficits', 'children', 'confined', 'skills', 'require', 'language', 'understanding', 'points', 'view', 'score', 'average', 'range', 'subtests', 'require', 'language', 'skills', '325', 'temple', 'grandin', 'aboveaverage', 'intelligence', 'popular', 'press', 'special', 'talents', 'children', 'ability', 'play', 'music', 'without', 'taught', 'draw', 'extremely', 'exceptional', 'memory', 'mathematical', 'calculation', 'abilities', 'depicted', 'movie', 'rain', 'man', '325', 'definition', 'symptoms', 'onset', 'age', '3', 'children', 'simply', 'delayed', 'development', 'skills', 'develop', 'language', 'social', 'interaction', 'pattern', 'striking', 'deviance', 'nature', 'note', 'wide', 'variation', 'severity', 'outcome', 'disorder', 'study', '68', 'individuals', 'diagnosed', 'children', 'performance', 'iq', '50', 'howlin', 'goode', 'hutton', 'rutter', '2004', 'adults', '13', 'sort', 'academic', 'degree', '5', 'college', '2', 'postgraduate', 'degree', '68', '23', 'employed', '18', 'close', 'friendships', 'majority', 'remained', 'dependent', 'parents', 'required', 'form', 'residential', 'care', 'fiftyeight', 'percent', '39', 'individuals', 'outcomes', 'rated', 'poor', 'poor', 'unable', 'live', 'alone', 'hold', 'job', 'persistent', 'problems', 'communication', 'social', 'interactions', '326', 'rain', 'man', 'dustin', 'hoffman', 'played', 'man', 'extraordinary', 'abilities', '326', 'best', 'predictor', 'outcome', 'childs', 'iq', 'language', 'development', 'age', '6', 'howlin', '2004', 'nordin', 'gillberg', '1998', 'children', 'iqs', '50', 'communicative', 'speech', 'age', '6', 'better', 'prognosis', 'study', 'howlin', 'colleagues', '2004', 'people', 'iq', '70', 'achieve', 'good', 'good', 'outcome', '326', 'prevalence', 'rising', 'years', 'increased', 'attention', 'recognition', 'disorder', 'tagerflusberg', 'joseph', 'folstein', '2001', 'review', 'epidemiological', 'studies', 'estimated', 'prevalence', '1', '500', 'children', 'prevalence', 'forms', 'pervasive', 'developmental', 'disorder', '1', '160', 'children', 'fombonne', '2009', 'boys', 'outnumber', 'girls', 'prevalence', 'vary', 'national', 'origin', 'race', 'ethnicity', 'socioeconomic', 'status', 'parental', 'education', '326', 'pervasive', 'developmental', 'disorders', 'recognized', 'dsmivtr', 'include', 'asperger', 'disorder', 'retts', 'disorder', 'childhood', 'disintegrative', 'disorder', 'tables', '108', '109', '326', 'disorder', 'characterized', 'deficits', 'social', 'interactions', 'activities', 'interests', 'table', '108', 'differs', 'delays', 'deviance', 'language', '3', 'years', 'life', 'children', 'normal', 'levels', 'curiosity', 'environment', 'acquire', 'normal', 'cognitive', 'skills', 'children', 'average', 'iq', 'scores', '326', 'children', 'disorder', 'tend', 'difficulty', 'social', 'relationships', 'obsessed', 'arcane', 'facts', 'issues', 'memorizing', 'zip', 'codes', 'formal', 'speechthe', 'disorder', 'referred', 'professor', 'syndrome', '326', 'prevalence', 'asperger', 'disorder', 'clear', 'individuals', 'disorder', 'function', 'life', 'undiagnosed', 'current', 'estimates', 'prevalence', '1', '36', 'people', '10000', 'volkmar', '2004', '326', 'distinctions', 'pervasive', 'developmental', 'disorders', 'disorder', 'controversial', 'volkmar', '2009', 'disorders', 'cooccur', 'families', 'clear', 'evidence', 'retts', 'childhood', 'disintegrative', 'disorder', 'disorder', 'rare', 'validity', 'diagnoses', 'questioned', 'fombonne', '2009', '327', 'table', '108', 'dsmivtr', 'criteria', 'asperger’s', 'disorder', 'qualitative', 'impairment', 'social', 'interaction', 'manifested', 'marked', 'impairment', 'multiple', 'nonverbal', 'behaviors', 'eyetoeye', 'gaze', 'facial', 'expression', 'body', 'posture', 'gestures', 'regulate', 'social', 'interaction', 'failure', 'develop', 'peer', 'relationships', 'appropriate', 'developmental', 'level', 'lack', 'spontaneous', 'seeking', 'share', 'enjoyment', 'interests', 'achievements', 'people', 'lack', 'showing', 'bringing', 'pointing', 'objects', 'people', 'lack', 'social', 'emotional', 'reciprocity', 'restricted', 'repetitive', 'stereotyped', 'patterns', 'behavior', 'interests', 'activities', 'manifested', 'encompassing', 'preoccupation', 'stereotyped', 'restricted', 'patterns', 'abnormal', 'intensity', 'focus', 'inflexible', 'adherence', 'specific', 'nonfunctional', 'routines', 'rituals', 'stereotyped', 'repetitive', 'motor', 'mannerisms', 'hand', 'finger', 'flapping', 'twisting', 'complex', 'wholebody', 'movements', 'persistent', 'preoccupation', 'parts', 'objects', 'disturbance', 'clinically', 'impairment', 'social', 'occupational', 'areas', 'functioning', 'clinically', 'general', 'delay', 'language', 'single', 'word', 'age', '2', 'years', 'communicative', 'phrases', 'age', '3', 'years', 'clinically', 'delay', 'cognitive', 'development', 'development', 'ageappropriate', 'selfhelp', 'skills', 'adaptive', 'behavior', 'social', 'interaction', 'curiosity', 'environment', 'childhood', 'criteria', 'met', 'specific', 'pervasive', 'developmental', 'disorder', 'schizophrenia', '327', 'dsmivtr', 'recognizes', 'pervasive', 'developmental', 'disorders', 'addition', 'disorder', '328', 'dsm5', 'pervasive', 'developmental', 'disorders', 'subsuned', 'category', 'spectrum', 'disorder', 'light', 'evidence', 'fall', 'continuum', 'severity', 'distinct', 'volkmar', '2009', 'diagnosis', 'spectrum', 'disorder', 'require', 'children', 'evidence', 'shortfalls', 'social', 'communication', 'interactions', 'restricted', 'recurring', 'behaviors', 'dsmivtr', 'criteria', 'disorder', 'american', 'psychiatric', 'association', '2010', 'symptoms', 'early', 'childhood', 'age', 'distinctions', 'pervasive', 'developmental', 'disorders', 'rating', 'scale', 'severity', '328', 'years', 'wide', 'variety', 'theories', 'proposed', 'psychiatrist', 'leo', 'kanner', '1943', 'thought', 'caused', 'combination', 'biological', 'factors', 'poor', 'parenting', 'psychoanalytic', 'theorists', 'bettelheim', '1967', 'parents', 'children', 'cold', 'distant', 'uncaring', 'childs', 'symptoms', 'retreat', 'secret', 'fantasies', 'response', 'unavailable', 'parents', 'decades', 'unresponsive', 'parenting', 'plays', 'role', 'development', '328', 'biological', 'factors', 'implicated', 'development', 'family', 'twin', 'studies', 'genetics', 'plays', 'role', 'development', 'disorder', 'siblings', 'children', '50', 'times', 'disorder', 'siblings', 'children', 'without', 'sigman', '2006', 'twin', 'studies', 'concordance', 'rates', '60', 'percent', 'monozygotic', 'twins', '10', 'percent', 'dizygotic', 'twins', 'folstein', 'rosensheidley', '2001', 'addition', '90', 'percent', 'mz', 'twins', 'children', 'cognitive', 'impairment', 'compared', '10', 'percent', 'dz', 'twins', 'children', 'higher', 'average', 'rate', 'genetic', 'disorders', 'cognitive', 'impairment', 'including', 'fragile', 'syndrome', 'pku', 'volkmar', '2009', 'data', 'general', 'vulnerability', 'types', 'cognitive', 'impairment', 'manifested', 'runs', 'families', 'single', 'gene', 'abnormalities', 'genes', 'pervasive', 'developmental', 'disorders', 'group', 'liu', 'paterson', 'szatrnari', 'genome', 'project', 'consortium', '2008', 'sigman', '2006', '328', 'areas', 'brain', 'implicated', '328', 'neurological', 'factors', 'play', 'role', 'array', 'deficits', 'suggests', 'disruption', 'normal', 'development', 'organization', 'brain', 'sigman', '2006', 'addition', '30', 'percent', 'children', 'develop', 'seizure', 'disorders', 'adolescence', 'suggesting', 'severe', 'neurological', 'dysfunction', 'fombonne', '1999', '328', 'neuroimaging', 'studies', 'suggested', 'variety', 'structural', 'functional', 'deficits', 'brains', 'individuals', 'including', 'cerebellum', 'cerebrum', 'amygdala', 'hippocampus', 'sigman', '2006', 'consistent', 'finding', 'greater', 'head', 'brain', 'size', 'children', 'disorder', 'children', 'without', 'lotspeich', '2004', '328', 'children', 'pervasive', 'developmental', 'disorders', 'tasks', 'require', 'perception', 'facial', 'expressions', 'joint', 'attention', 'person', 'empathy', 'thinking', 'social', 'situations', 'abnormal', 'functioning', 'areas', 'brain', 'recruited', 'tasks', 'photos', 'faces', 'children', 'pervasive', 'developmental', 'disorder', 'activation', 'typical', 'children', 'area', 'brain', 'involved', 'facial', 'perception', 'called', 'fusiform', 'gyrus', 'figure', '10', '2', 'schultz', '2005', 'difficulty', 'perceiving', 'standing', 'facial', 'expressions', 'contribute', 'childrens', 'deficits', 'social', 'interactions', '328', 'children', 'pervasive', 'developmental', 'disorders', 'perform', 'poorly', 'children', 'tasks', 'requiring', 'theory', 'mindthe', 'ability', 'understand', 'people', 'including', 'oneself', 'mental', 'understanding', 'interact', 'communicate', 'baroncohen', 'swettenham', '1997', 'theory', 'mind', 'essential', 'comprehending', 'explaining', 'predicting', 'manipulating', 'behavior', 'children', 'fail', 'tasks', 'assessing', 'theory', 'mind', 'perform', 'appropriately', 'age', 'group', 'cognitive', 'tasks', 'yirmiya', 'erel', 'shaked', 'solomonicalevi', '1998', 'deficient', 'theory', 'mind', 'difficult', 'children', 'understand', 'operate', 'social', 'communicate', 'appropriately', 'strange', 'play', 'behaviorspecifically', 'absence', 'symbolic', 'playalso', 'represent', 'inability', 'understand', 'concrete', 'realities', 'positron', 'emission', 'tomography', 'studies', 'children', 'deficits', 'medial', 'prefrontal', 'cortex', 'amygdala', 'performing', 'theory', 'mind', 'tasks', 'castelli', '2002', '329', 'neurological', 'dysfunctions', 'result', 'genetic', 'factors', 'alternately', 'children', 'higher', 'average', 'rate', 'prenatal', 'birth', 'complications', 'complications', 'create', 'neurological', 'damage', 'sigman', '2006', 'studies', 'differences', 'children', 'without', 'levels', 'neurotransmitters', 'serotonin', 'dopamine', 'meaning', 'differences', 'clear', 'anderson', 'hoshino', '1997', '329', 'number', 'drugs', 'improve', 'symptoms', 'including', 'overactivity', 'stereotyped', 'behaviors', 'headbanging', 'handflapping', 'sleep', 'disturbances', 'tension', 'kerbeshian', 'burd', 'avery', '2001', 'volkmar', '2001', 'selective', 'serotonin', 'reuptake', 'inhibitors', 'reduce', 'repetitive', 'behaviors', 'aggression', 'improve', 'social', 'interactions', 'people', 'atypical', 'antipsychotic', 'medications', 'reduce', 'obsessive', 'repetitive', 'behaviors', 'improve', 'selfcontrol', 'naltrexone', 'drug', 'blocks', 'receptors', 'opiates', 'useful', 'reducing', 'hyperactivity', 'children', 'finally', 'stimulants', 'improve', 'attention', 'jesner', 'arefadib', 'coren', '2007', 'drugs', 'alter', 'basic', 'disorder', 'easier', 'people', 'participate', 'school', 'treatment', 'interventions', '329', 'psychosocial', 'therapies', 'combine', 'behavioral', 'techniques', 'structured', 'educational', 'services', 'koegel', 'koegel', 'brookman', '2003', 'lovaas', 'smith', '2003', 'vismara', 'rogers', '2010', 'operant', 'conditioning', 'strategies', 'reduce', 'excessive', 'behaviors', 'repetitive', 'ritualistic', 'behaviors', 'tantrums', 'aggression', 'alleviate', 'deficits', 'delays', 'deficits', 'communication', 'interactions', 'techniques', 'implemented', 'highly', 'structured', 'schools', 'designed', 'children', 'regular', 'classrooms', 'children', 'mainstreamed', 'specific', 'deficits', 'child', 'cognitive', 'motor', 'communication', 'skills', 'targeted', 'materials', 'reduce', 'possible', 'distractions', 'books', 'printed', 'bright', 'colors', 'parents', 'taught', 'implement', 'techniques', 'consistently', 'children', '329', 'pioneering', 'study', '47', 'percent', 'children', 'intensive', 'behavioral', 'treatment', '40', 'hours', 'week', '2', 'years', 'achieved', 'normal', 'intellectual', 'educational', 'functioning', 'age', '7', 'compared', '2', 'percent', 'children', 'received', 'institutional', 'care', 'alone', 'lovaas', '1987', 'studies', 'remarkable', 'improvements', 'cognitive', 'skills', 'behavioral', 'control', 'children', 'treated', 'comprehensive', 'behavior', 'therapy', 'administered', 'parents', 'school', 'setting', 'bregman', 'gerdtz', '1997', 'koegel', '2003', 'lovaas', 'smith', '2003', 'ozonoff', 'cathcart', '1998', 'schreibman', 'charlopchristy', '1998', 'vismara', 'rogers', '2010', '329', 'figure', '10', '2', 'brain', 'activity', 'response', 'faces', 'images', 'faces', 'children', 'image', 'activation', 'fusiform', 'gyrus', 'children', 'without', 'image', 'left', '329', 'intensive', 'behavior', 'therapy', 'children', 'learn', 'communication', 'social', 'skills', '330', 'test', '2', 'biological', 'factors', 'implicated', '3', 'medications', 'treat', '4', 'behavior', 'therapy', 'treat', 'apply', 'harry', 'diagnosed', 'deficits', 'deficits', 'social', 'interaction', 'deficits', 'intelligence', 'deficits', 'language', 'communication', 'deficits', 'activities', 'interests', '523', 'disorder', 'pervasive', 'developmental', 'disorder', 'characterized', 'deficits', 'social', 'skills', 'activities', 'include', 'deficits', 'language', 'cognitive', 'skills', '523', 'childhood', 'disorder', 'marked', 'deficits', 'social', 'interaction', 'lack', 'family', 'children', 'communication', 'failing', 'modulate', 'voice', 'signify', 'emotional', 'expression', 'activities', 'interests', 'engaging', 'bizarre', 'repetitive', 'behaviors']\n"
     ]
    }
   ],
   "source": [
    "# Update all the books with their clean, stopword-less counterparts\n",
    "\n",
    "clean_texts = {}\n",
    "for book in title_text:\n",
    "    newest_text_list = clean(book)\n",
    "    clean_texts[book] = newest_text_list\n",
    "    \n",
    "print(clean_texts[\"Abn_Nolen-Hoeksema_05_Autism_v2.docx\"])"
   ]
  },
  {
   "cell_type": "code",
   "execution_count": 8,
   "id": "c983e726",
   "metadata": {},
   "outputs": [],
   "source": [
    "# Function to find sentiment score of the cleaned textbooks\n",
    "\n",
    "def get_sentiment(clean_textbook):\n",
    "    total_score = 0\n",
    "    for piece in clean_textbook:\n",
    "        for word in dictionary_clean:\n",
    "            if piece == word[0]: # If the word in the textbook is in the dictionary\n",
    "                total_score += word[1] # Add that word's score to the total score\n",
    "    total_score = total_score/(len(clean_textbook))\n",
    "    return total_score"
   ]
  },
  {
   "cell_type": "code",
   "execution_count": 9,
   "id": "ea500af8",
   "metadata": {},
   "outputs": [
    {
     "name": "stdout",
     "output_type": "stream",
     "text": [
      "0.18750137163516206\n"
     ]
    }
   ],
   "source": [
    "print(get_sentiment(clean_texts[\"Abn_Nolen-Hoeksema_05_Autism_v2.docx\"]))"
   ]
  },
  {
   "cell_type": "code",
   "execution_count": 10,
   "id": "2c34a876",
   "metadata": {},
   "outputs": [
    {
     "name": "stdout",
     "output_type": "stream",
     "text": [
      "['Abn_Barlow_04_Autism_v2.docx', 'Abn_Barlow_05_Autism_v2.docx', 'Abn_Barlow_06_Autism_v2.docx', 'Abn_Barlow_07_Autism.docx', 'Abn_Barlow_08_Autism.docx', 'Abn_Brown_01_Autism_v2.docx', 'Abn_Brown_02_Autism_v2.docx', 'Abn_Brown_03_Autism_v2.docx', 'Abn_Brown_04_Autism_v2.docx', 'Abn_Brown_05_Autism.docx', 'Abn_Comer_05_Autism_v2.docx', 'Abn_Comer_06_Autism_v2.docx', 'Abn_Comer_07_Autism_v2.docx', 'Abn_Comer_08_Autism_v2.docx', 'Abn_Comer_09_Autism.docx', 'Abn_Hooley_13_Autism_v2.docx', 'Abn_Hooley_14_Autism_v2.docx', 'Abn_Hooley_15_Autism_v2.docx', 'Abn_Hooley_16_Autism_v2.docx', 'Abn_Hooley_17_Autism.docx', 'Abn_Kearney_06_Autism.docx', 'Abn_Mash_02_Autism_v2.docx', 'Abn_Mash_03_Autism_v2.docx', 'Abn_Mash_04_Autism_v2.docx', 'Abn_Mash_05_Autism_v2.docx', 'Abn_Mash_06_Autism.docx', 'Abn_Nevid_06_Autism_v2.docx', 'Abn_Nevid_07_Autism.docx', 'Abn_Nevid_08_Autism_v2.docx', 'Abn_Nevid_09_Autism_v2.docx', 'Abn_Nevid_10_Autism.docx', 'Abn_Nolen-Hoeksema_03_Autism_v2.docx', 'Abn_Nolen-Hoeksema_04_Autism.docx', 'Abn_Nolen-Hoeksema_05_Autism_v2.docx', 'Abn_Nolen-Hoeksema_06_Autism_v2.docx', 'Abn_Nolen-Hoeksema_07_Autism.docx', 'Abn_Sue_07_Autism_v2.docx', 'Abn_Sue_08_Autism_v2.docx', 'Abn_Sue_09_Autism_v2.docx', 'Abn_Sue_10_Autism_v2.docx', 'Abn_Sue_11_Autism.docx', 'Abn_Whitbourne_04_Autism_v2.docx', 'Abn_Whitbourne_05_Autism_v2.docx', 'Abn_Whitbourne_06_Autism_v2.docx', 'Abn_Whitbourne_07_Autism_v2.docx', 'Abn_Whitbourne_08_Autism.docx', 'Devo_Berger_05_Autism.docx', 'Devo_Berger_06_Autism_v2.docx', 'Devo_Berger_07_Autism.docx', 'Devo_Berger_08_Autism.docx', 'Devo_Berger_09_Autism.docx', 'Devo_Berger_10_Autism.docx', 'Devo_Berk_03_Autism.docx', 'Devo_Berk_04_Autism.docx', 'Devo_Berk_05_Autism.docx', 'Devo_Berk_06_Autism.docx', 'Devo_Berk_07_Autism.docx', 'Devo_Berk_08_Autism.docx', 'Devo_Bornstein_02_Autism.docx', 'Devo_Bornstein_03_Autism.docx', 'Devo_Bornstein_04_Autism.docx', 'Devo_Bornstein_05_Autism.docx', 'Devo_Bornstein_06_Autism.docx', 'Devo_Bornstein_07_Autism.docx', 'Devo_Feldman_04_Autism.docx', 'Devo_Feldman_05_Autism.docx', 'Devo_Feldman_06_Autism.docx', 'Devo_Feldman_07_Autism.docx', 'Devo_Feldman_08_Autism.docx', 'Devo_Kail_07_Autism.docx', 'Devo_Miller_06_Autism.docx', 'Devo_Newman_13_Autism.docx', 'Devo_Santrock_12_Autism_v2.docx', 'Devo_Santrock_13_Autism_v2.docx', 'Devo_Santrock_14_Autism_v2.docx', 'Devo_Santrock_15_Autism.docx', 'Devo_Santrock_16_Autism.docx', 'Devo_Sigelman_04_Autism_v2.docx', 'Devo_Sigelman_05_Autism.docx', 'Devo_Sigelman_06_Autism.docx', 'Devo_Sigelman_07_Autism.docx', 'Devo_Sigelman_08_Autism.docx', 'Devo_Sigelman_09_Autism.docx', 'GS_Newman_03_Autism.docx', 'GS_Rothenberg_10_Autism.docx', 'GS_Wood_12_Autism.docx', 'HS_Carroll_05_Autism.docx', 'HS_Crooks_11_Autism.docx', 'HS_Crooks_13_Autism.docx', 'HS_Hyde_13_Autism.docx', 'HS_LeVay_02_Autism.docx', 'HS_LeVay_03_Autism.docx', 'HS_Yarber_09_Autism.docx', 'Intro_Bernstein_06_Autism.docx', 'Intro_Bernstein_07_Autism_v2.docx', 'Intro_Bernstein_08_Autism.docx', 'Intro_Bernstein_09_Autism_v2.docx', 'Intro_Bernstein_10_Autism.docx', 'Intro_Coon_10_Autism.docx', 'Intro_Coon_11_Autism.docx', 'Intro_Coon_13_Autism_v2.docx', 'Intro_Coon_14_Autism.docx', 'Intro_Griggs_03_Autism.docx', 'Intro_Griggs_04_Autism.docx', 'Intro_Griggs_05_Autism.docx', 'Intro_Kalat_09_Autism.docx', 'Intro_Kalat_10_Autism.docx', 'Intro_Kalat_11_Autism.docx', 'Intro_Morris_07_Autism.docx', 'Intro_Morris_08_Autism.docx', 'Intro_Morris_09_Autism.docx', 'Intro_Morris_10_Autism.docx', 'Intro_Morris_11_Autism.docx', 'Intro_Myers_07_Autism_v2.docx', 'Intro_Myers_08_Autism.docx', 'Intro_Myers_09_Autism.docx', 'Intro_Myers_10_Autism.docx', 'Intro_Myers_11_Autism.docx', 'Intro_Rathus_05_Autism.docx', 'Intro_Wade_08_Autism.docx', 'Intro_Wade_12_Autism.docx', 'Intro_Weiten_06_Autism.docx', 'Intro_Weiten_08_Autism.docx', 'Intro_Weiten_10_Autism.docx', 'Neuro_Bear_03_Autism.docx', 'Neuro_Bear_04_Autism.docx', 'Neuro_Breedlove_05_Autism.docx', 'Neuro_Breedlove_06_Autism.docx', 'Neuro_Breedlove_07_Autism_v2.docx', 'Neuro_Breedlove_08_Autism.docx', 'Neuro_Carlson_09_Autism.docx', 'Neuro_Carlson_10_Autism_v2.docx', 'Neuro_Carlson_11_Autism_v2.docx', 'Neuro_Carlson_12_Autism.docx', 'Neuro_Garrett_02_Autism.docx', 'Neuro_Garrett_03_Autism.docx', 'Neuro_Garrett_04_Autism_v2.docx', 'Neuro_Garrett_05_Autism.docx', 'Neuro_Johnson_01_Autism.docx', 'Neuro_Johnson_02_Autism_v2.docx', 'Neuro_Johnson_03_Autism.docx', 'Neuro_Johnson_04_Autism.docx', 'Neuro_Kalat_10_Autism.docx', 'Neuro_Kalat_11_Autism.docx', 'Neuro_Kalat_12_Autism.docx', 'Neuro_Kolb_04_Autism.docx', 'Neuro_Kolb_05_Autism.docx', 'Neuro_Kolb_06_Autism_v2.docx', 'Neuro_Kolb_07_Autism.docx', 'Neuro_Pinel_07_Autism.docx', 'Neuro_Pinel_08_Autism.docx', 'Neuro_Pinel_09_Autism.docx', 'Neuro_Pinel_10_Autism.docx', 'Neuro_Reisberg_06_Autism.docx', 'Socl_Aronson_08_Autism.docx', 'Socl_Aronson_09_Autism.docx', 'Socl_Baumeister_04_Autism.docx', 'Socl_Branscombe_14_Autism.docx', 'Socl_Gilovich_02_Autism.docx', 'Socl_Gilovich_03_Autism.docx', 'Socl_Gilovich_04_Autism.docx', 'Socl_Gruman_03_Autism.docx', 'Socl_Myers_12_Autism.docx', 'Socl_Rogers_02_Autism.docx', 'Socl_Rogers_03_Autism.docx', 'Socl_Rogers_04_Autism.docx', 'Socl_Zastrow_08_Autism.docx', 'Socl_Zastrow_09_Autism.docx', 'Socl_Zastrow_10_Autism.docx', 'Spcl_Friend_01_Autism_v2.docx', 'Spcl_Friend_02_Autism_v2.docx', 'Spcl_Friend_03_Autism_v2.docx', 'Spcl_Friend_04_Autism_v2.docx', 'Spcl_Friend_05_Autism.docx', 'Spcl_Gargiulo_02_Autism_v2.docx', 'Spcl_Gargiulo_03_Autism_v2.docx', 'Spcl_Gargiulo_04_Autism.docx', 'Spcl_Gargiulo_05_Autism_v2.docx', 'Spcl_Gargiulo_06_Autism.docx', 'Spcl_Hardman_08_Autism_v2.docx', 'Spcl_Hardman_09_Autism_v2.docx', 'Spcl_Hardman_10_Autism_v2.docx', 'Spcl_Hardman_11_Autism.docx', 'Spcl_Hardman_12_Autism.docx', 'Spcl_Heward_07_Autism.docx', 'Spcl_Heward_08_Autism_v2.docx', 'Spcl_Heward_09_Autism_v2.docx', 'Spcl_Heward_10_Autism_v2.docx', 'Spcl_Heward_11_Autism.docx', 'Spcl_Kuder_01_Autism_v2.docx', 'Spcl_Kuder_02_Autism_v2.docx', 'Spcl_Kuder_03_Autism_v2.docx', 'Spcl_Kuder_04_Autism_v2.docx', 'Spcl_Kuder_05_Autism.docx', 'Spcl_Lewis_05_Autism.docx', 'Spcl_Lewis_06_Autism.docx', 'Spcl_Lewis_07_Autism_v2.docx', 'Spcl_Lewis_08_Autism.docx', 'Spcl_Lewis_09_Autism.docx', 'Spcl_Overton_04_Autism.docx', 'Spcl_Overton_06_Autism.docx', 'Spcl_Overton_07_Autism.docx', 'Spcl_Overton_08_Autism.docx', 'Spcl_Smith_03_Autism_v2.docx', 'Spcl_Smith_04_Autism_v2.docx', 'Spcl_Smith_05_Autism_v2.docx', 'Spcl_Smith_06_Autism_v2.docx', 'Spcl_Smith_07_Autism_v2.docx', 'Spcl_Turnbull_04_Autism_v2.docx', 'Spcl_Turnbull_05_Autism_v2.docx', 'Spcl_Turnbull_06_Autism_v2.docx', 'Spcl_Turnbull_07_Autism_v2.docx', 'Spcl_Turnbull_08_Autism.docx', 'Spcl_Vaughn_03_Autism_v2.docx', 'Spcl_Vaughn_04_Autism_v2.docx', 'Spcl_Vaughn_05_Autism_v2.docx', 'Spcl_Vaughn_06_Autism_v2.docx', 'Spcl_Vaughn_07_Autism.docx']\n"
     ]
    }
   ],
   "source": [
    "# Find raw sentiments and see if length matters\n",
    "\n",
    "def get_raw_sentiment(clean_textbook):\n",
    "    total_score = 0\n",
    "    for piece in clean_textbook:\n",
    "        for word in dictionary_clean:\n",
    "            if piece == word[0]: # If the word in the textbook is in the dictionary\n",
    "                total_score += word[1] # Add that word's score to the total score\n",
    "    return total_score\n",
    "\n",
    "# Now, find sentiment score of all of the books\n",
    "\n",
    "dmp_dir = r\"C:\\Users\\maksi\\Documents\\UVA\\Research\\DMP\\GitHub_DMP\\Results\"\n",
    "\n",
    "os.chdir(dmp_dir)\n",
    "\n",
    "print(textbooks)\n",
    "\n",
    "sentiments = {}\n",
    "for textbook in textbooks:\n",
    "    book = clean_texts[textbook]\n",
    "    sentiment = get_sentiment(book)\n",
    "    sentiments[textbook] = sentiment\n",
    "    \n",
    "all_sentiments = pd.DataFrame(sentiments, index = [0])\n",
    "\n",
    "all_sentiments.to_csv('sentiments_3_19_2024_autism.csv', encoding='utf-8')"
   ]
  },
  {
   "cell_type": "code",
   "execution_count": null,
   "id": "7494c7a7",
   "metadata": {},
   "outputs": [],
   "source": []
  }
 ],
 "metadata": {
  "kernelspec": {
   "display_name": "Python 3 (ipykernel)",
   "language": "python",
   "name": "python3"
  },
  "language_info": {
   "codemirror_mode": {
    "name": "ipython",
    "version": 3
   },
   "file_extension": ".py",
   "mimetype": "text/x-python",
   "name": "python",
   "nbconvert_exporter": "python",
   "pygments_lexer": "ipython3",
   "version": "3.11.5"
  }
 },
 "nbformat": 4,
 "nbformat_minor": 5
}
